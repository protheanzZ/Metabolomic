{
 "cells": [
  {
   "cell_type": "code",
   "execution_count": 1,
   "metadata": {},
   "outputs": [],
   "source": [
    "import pandas as pd\n",
    "import numpy as np\n",
    "import matplotlib.pyplot as plt\n",
    "import seaborn as sns"
   ]
  },
  {
   "cell_type": "code",
   "execution_count": 102,
   "metadata": {},
   "outputs": [
    {
     "data": {
      "text/html": [
       "<div>\n",
       "<style scoped>\n",
       "    .dataframe tbody tr th:only-of-type {\n",
       "        vertical-align: middle;\n",
       "    }\n",
       "\n",
       "    .dataframe tbody tr th {\n",
       "        vertical-align: top;\n",
       "    }\n",
       "\n",
       "    .dataframe thead th {\n",
       "        text-align: right;\n",
       "    }\n",
       "</style>\n",
       "<table border=\"1\" class=\"dataframe\">\n",
       "  <thead>\n",
       "    <tr style=\"text-align: right;\">\n",
       "      <th></th>\n",
       "      <th>Unnamed: 0</th>\n",
       "      <th>mz</th>\n",
       "      <th>mzmin</th>\n",
       "      <th>mzmax</th>\n",
       "      <th>rt</th>\n",
       "      <th>rtmin</th>\n",
       "      <th>rtmax</th>\n",
       "      <th>npeaks</th>\n",
       "      <th>X1</th>\n",
       "      <th>Filter_01.mzXML</th>\n",
       "      <th>...</th>\n",
       "      <th>Sample_3_3.mzXML</th>\n",
       "      <th>Sample_4_1.mzXML</th>\n",
       "      <th>Sample_4_2.mzXML</th>\n",
       "      <th>Sample_4_3.mzXML</th>\n",
       "      <th>Sample_5_1.mzXML</th>\n",
       "      <th>Sample_5_2.mzXML</th>\n",
       "      <th>Sample_5_3.mzXML</th>\n",
       "      <th>isotopes</th>\n",
       "      <th>adduct</th>\n",
       "      <th>pcgroup</th>\n",
       "    </tr>\n",
       "  </thead>\n",
       "  <tbody>\n",
       "    <tr>\n",
       "      <th>0</th>\n",
       "      <td>1</td>\n",
       "      <td>80.025105</td>\n",
       "      <td>80.021111</td>\n",
       "      <td>80.049787</td>\n",
       "      <td>66.962585</td>\n",
       "      <td>60.763611</td>\n",
       "      <td>69.723999</td>\n",
       "      <td>34</td>\n",
       "      <td>26</td>\n",
       "      <td>1.985377e+06</td>\n",
       "      <td>...</td>\n",
       "      <td>2.549433e+06</td>\n",
       "      <td>9.425606e+05</td>\n",
       "      <td>1.275104e+06</td>\n",
       "      <td>5.246297e+04</td>\n",
       "      <td>3.778044e+05</td>\n",
       "      <td>2.334711e+06</td>\n",
       "      <td>1.844433e+06</td>\n",
       "      <td>NaN</td>\n",
       "      <td>[M+Na]+ 57.0325</td>\n",
       "      <td>156</td>\n",
       "    </tr>\n",
       "    <tr>\n",
       "      <th>1</th>\n",
       "      <td>2</td>\n",
       "      <td>81.017546</td>\n",
       "      <td>81.017490</td>\n",
       "      <td>81.017591</td>\n",
       "      <td>66.725952</td>\n",
       "      <td>61.166412</td>\n",
       "      <td>70.237854</td>\n",
       "      <td>36</td>\n",
       "      <td>36</td>\n",
       "      <td>2.299344e+07</td>\n",
       "      <td>...</td>\n",
       "      <td>1.145071e+07</td>\n",
       "      <td>4.506232e+06</td>\n",
       "      <td>5.898964e+06</td>\n",
       "      <td>7.796333e+06</td>\n",
       "      <td>4.082660e+06</td>\n",
       "      <td>9.782101e+06</td>\n",
       "      <td>1.010821e+07</td>\n",
       "      <td>NaN</td>\n",
       "      <td>NaN</td>\n",
       "      <td>156</td>\n",
       "    </tr>\n",
       "    <tr>\n",
       "      <th>2</th>\n",
       "      <td>3</td>\n",
       "      <td>81.045275</td>\n",
       "      <td>81.045213</td>\n",
       "      <td>81.070428</td>\n",
       "      <td>8.382844</td>\n",
       "      <td>2.581511</td>\n",
       "      <td>39.583630</td>\n",
       "      <td>64</td>\n",
       "      <td>30</td>\n",
       "      <td>9.452991e+05</td>\n",
       "      <td>...</td>\n",
       "      <td>3.132807e+06</td>\n",
       "      <td>1.200166e+06</td>\n",
       "      <td>4.941660e+06</td>\n",
       "      <td>1.260456e+06</td>\n",
       "      <td>1.056187e+06</td>\n",
       "      <td>9.543495e+05</td>\n",
       "      <td>2.396896e+06</td>\n",
       "      <td>NaN</td>\n",
       "      <td>NaN</td>\n",
       "      <td>3262</td>\n",
       "    </tr>\n",
       "    <tr>\n",
       "      <th>3</th>\n",
       "      <td>4</td>\n",
       "      <td>81.070211</td>\n",
       "      <td>81.033838</td>\n",
       "      <td>81.070354</td>\n",
       "      <td>445.544693</td>\n",
       "      <td>418.351501</td>\n",
       "      <td>446.324554</td>\n",
       "      <td>40</td>\n",
       "      <td>28</td>\n",
       "      <td>8.826248e+05</td>\n",
       "      <td>...</td>\n",
       "      <td>3.948975e+06</td>\n",
       "      <td>1.978841e+06</td>\n",
       "      <td>6.847747e+05</td>\n",
       "      <td>3.241769e+06</td>\n",
       "      <td>5.397383e+06</td>\n",
       "      <td>1.146643e+06</td>\n",
       "      <td>5.507006e+06</td>\n",
       "      <td>NaN</td>\n",
       "      <td>NaN</td>\n",
       "      <td>12</td>\n",
       "    </tr>\n",
       "    <tr>\n",
       "      <th>4</th>\n",
       "      <td>5</td>\n",
       "      <td>81.033907</td>\n",
       "      <td>81.032500</td>\n",
       "      <td>81.070209</td>\n",
       "      <td>278.781418</td>\n",
       "      <td>277.883911</td>\n",
       "      <td>311.960571</td>\n",
       "      <td>32</td>\n",
       "      <td>28</td>\n",
       "      <td>2.814078e+05</td>\n",
       "      <td>...</td>\n",
       "      <td>2.624762e+05</td>\n",
       "      <td>1.508501e+05</td>\n",
       "      <td>2.369215e+05</td>\n",
       "      <td>3.161576e+05</td>\n",
       "      <td>7.470728e+05</td>\n",
       "      <td>6.875941e+05</td>\n",
       "      <td>6.159486e+05</td>\n",
       "      <td>NaN</td>\n",
       "      <td>NaN</td>\n",
       "      <td>1918</td>\n",
       "    </tr>\n",
       "  </tbody>\n",
       "</table>\n",
       "<p>5 rows × 48 columns</p>\n",
       "</div>"
      ],
      "text/plain": [
       "   Unnamed: 0         mz      mzmin      mzmax          rt       rtmin  \\\n",
       "0           1  80.025105  80.021111  80.049787   66.962585   60.763611   \n",
       "1           2  81.017546  81.017490  81.017591   66.725952   61.166412   \n",
       "2           3  81.045275  81.045213  81.070428    8.382844    2.581511   \n",
       "3           4  81.070211  81.033838  81.070354  445.544693  418.351501   \n",
       "4           5  81.033907  81.032500  81.070209  278.781418  277.883911   \n",
       "\n",
       "        rtmax  npeaks  X1  Filter_01.mzXML  ...  Sample_3_3.mzXML  \\\n",
       "0   69.723999      34  26     1.985377e+06  ...      2.549433e+06   \n",
       "1   70.237854      36  36     2.299344e+07  ...      1.145071e+07   \n",
       "2   39.583630      64  30     9.452991e+05  ...      3.132807e+06   \n",
       "3  446.324554      40  28     8.826248e+05  ...      3.948975e+06   \n",
       "4  311.960571      32  28     2.814078e+05  ...      2.624762e+05   \n",
       "\n",
       "   Sample_4_1.mzXML  Sample_4_2.mzXML  Sample_4_3.mzXML  Sample_5_1.mzXML  \\\n",
       "0      9.425606e+05      1.275104e+06      5.246297e+04      3.778044e+05   \n",
       "1      4.506232e+06      5.898964e+06      7.796333e+06      4.082660e+06   \n",
       "2      1.200166e+06      4.941660e+06      1.260456e+06      1.056187e+06   \n",
       "3      1.978841e+06      6.847747e+05      3.241769e+06      5.397383e+06   \n",
       "4      1.508501e+05      2.369215e+05      3.161576e+05      7.470728e+05   \n",
       "\n",
       "   Sample_5_2.mzXML  Sample_5_3.mzXML  isotopes           adduct  pcgroup  \n",
       "0      2.334711e+06      1.844433e+06       NaN  [M+Na]+ 57.0325      156  \n",
       "1      9.782101e+06      1.010821e+07       NaN              NaN      156  \n",
       "2      9.543495e+05      2.396896e+06       NaN              NaN     3262  \n",
       "3      1.146643e+06      5.507006e+06       NaN              NaN       12  \n",
       "4      6.875941e+05      6.159486e+05       NaN              NaN     1918  \n",
       "\n",
       "[5 rows x 48 columns]"
      ]
     },
     "execution_count": 102,
     "metadata": {},
     "output_type": "execute_result"
    }
   ],
   "source": [
    "result = pd.read_csv('result_CAMERA.csv')\n",
    "result.head()"
   ]
  },
  {
   "cell_type": "code",
   "execution_count": 3,
   "metadata": {},
   "outputs": [],
   "source": [
    "result = result.dropna(subset=['adduct'])"
   ]
  },
  {
   "cell_type": "code",
   "execution_count": 5,
   "metadata": {},
   "outputs": [
    {
     "data": {
      "text/html": [
       "<div>\n",
       "<style scoped>\n",
       "    .dataframe tbody tr th:only-of-type {\n",
       "        vertical-align: middle;\n",
       "    }\n",
       "\n",
       "    .dataframe tbody tr th {\n",
       "        vertical-align: top;\n",
       "    }\n",
       "\n",
       "    .dataframe thead th {\n",
       "        text-align: right;\n",
       "    }\n",
       "</style>\n",
       "<table border=\"1\" class=\"dataframe\">\n",
       "  <thead>\n",
       "    <tr style=\"text-align: right;\">\n",
       "      <th></th>\n",
       "      <th>Unnamed: 0</th>\n",
       "      <th>mz</th>\n",
       "      <th>mzmin</th>\n",
       "      <th>mzmax</th>\n",
       "      <th>rt</th>\n",
       "      <th>rtmin</th>\n",
       "      <th>rtmax</th>\n",
       "      <th>npeaks</th>\n",
       "      <th>X1</th>\n",
       "      <th>Filter_01.mzXML</th>\n",
       "      <th>...</th>\n",
       "      <th>Sample_3_3.mzXML</th>\n",
       "      <th>Sample_4_1.mzXML</th>\n",
       "      <th>Sample_4_2.mzXML</th>\n",
       "      <th>Sample_4_3.mzXML</th>\n",
       "      <th>Sample_5_1.mzXML</th>\n",
       "      <th>Sample_5_2.mzXML</th>\n",
       "      <th>Sample_5_3.mzXML</th>\n",
       "      <th>isotopes</th>\n",
       "      <th>adduct</th>\n",
       "      <th>pcgroup</th>\n",
       "    </tr>\n",
       "  </thead>\n",
       "  <tbody>\n",
       "    <tr>\n",
       "      <th>2846</th>\n",
       "      <td>2847</td>\n",
       "      <td>222.112337</td>\n",
       "      <td>222.070339</td>\n",
       "      <td>222.193406</td>\n",
       "      <td>474.382187</td>\n",
       "      <td>449.441284</td>\n",
       "      <td>489.515381</td>\n",
       "      <td>98</td>\n",
       "      <td>35</td>\n",
       "      <td>890648.676161</td>\n",
       "      <td>...</td>\n",
       "      <td>1.218119e+06</td>\n",
       "      <td>3.728809e+06</td>\n",
       "      <td>4.428320e+06</td>\n",
       "      <td>4.820115e+06</td>\n",
       "      <td>1.111640e+07</td>\n",
       "      <td>1.123014e+07</td>\n",
       "      <td>1.055760e+07</td>\n",
       "      <td>NaN</td>\n",
       "      <td>[M+H]+ 221.103</td>\n",
       "      <td>122</td>\n",
       "    </tr>\n",
       "  </tbody>\n",
       "</table>\n",
       "<p>1 rows × 48 columns</p>\n",
       "</div>"
      ],
      "text/plain": [
       "      Unnamed: 0          mz       mzmin       mzmax          rt       rtmin  \\\n",
       "2846        2847  222.112337  222.070339  222.193406  474.382187  449.441284   \n",
       "\n",
       "           rtmax  npeaks  X1  Filter_01.mzXML  ...  Sample_3_3.mzXML  \\\n",
       "2846  489.515381      98  35    890648.676161  ...      1.218119e+06   \n",
       "\n",
       "      Sample_4_1.mzXML  Sample_4_2.mzXML  Sample_4_3.mzXML  Sample_5_1.mzXML  \\\n",
       "2846      3.728809e+06      4.428320e+06      4.820115e+06      1.111640e+07   \n",
       "\n",
       "      Sample_5_2.mzXML  Sample_5_3.mzXML  isotopes          adduct  pcgroup  \n",
       "2846      1.123014e+07      1.055760e+07       NaN  [M+H]+ 221.103      122  \n",
       "\n",
       "[1 rows x 48 columns]"
      ]
     },
     "execution_count": 5,
     "metadata": {},
     "output_type": "execute_result"
    }
   ],
   "source": [
    "result[result['adduct'] == '[M+H]+ 221.103']"
   ]
  },
  {
   "cell_type": "code",
   "execution_count": 37,
   "metadata": {},
   "outputs": [],
   "source": [
    "res = result['adduct'].str"
   ]
  },
  {
   "cell_type": "code",
   "execution_count": 18,
   "metadata": {},
   "outputs": [
    {
     "data": {
      "text/plain": [
       "0                                   [M+Na]+ 57.0325\n",
       "6          [M+H-C4H8]+ 136.125 [M+3H-NH3]3+ 257.208\n",
       "12                                  [M+Na]+ 60.0692\n",
       "27    [M+K]+ 44.0934 [M+Na]+ 60.0673 [M+H]+ 82.0504\n",
       "28                                   [M+H]+ 82.0535\n",
       "Name: adduct, dtype: object"
      ]
     },
     "execution_count": 18,
     "metadata": {},
     "output_type": "execute_result"
    }
   ],
   "source": [
    "result['adduct'][:5]"
   ]
  },
  {
   "cell_type": "code",
   "execution_count": 31,
   "metadata": {},
   "outputs": [],
   "source": [
    "x = '[M+H-C4H8]+ 136.125 [M+3H-NH3]3+ 257.208'"
   ]
  },
  {
   "cell_type": "code",
   "execution_count": 32,
   "metadata": {},
   "outputs": [],
   "source": [
    "import re"
   ]
  },
  {
   "cell_type": "code",
   "execution_count": 48,
   "metadata": {},
   "outputs": [
    {
     "data": {
      "text/plain": [
       "'136.125 [M+3H-NH3]3+ 257.208'"
      ]
     },
     "execution_count": 48,
     "metadata": {},
     "output_type": "execute_result"
    }
   ],
   "source": [
    "r1 = re.findall('\\[.*?\\+ (.*)', x)[0]\n",
    "r1"
   ]
  },
  {
   "cell_type": "code",
   "execution_count": 46,
   "metadata": {},
   "outputs": [
    {
     "data": {
      "text/plain": [
       "True"
      ]
     },
     "execution_count": 46,
     "metadata": {},
     "output_type": "execute_result"
    }
   ],
   "source": [
    "'[' in r1"
   ]
  },
  {
   "cell_type": "code",
   "execution_count": 51,
   "metadata": {},
   "outputs": [
    {
     "data": {
      "text/plain": [
       "'136.125 [M+3H-NH3]3+ 257.208'"
      ]
     },
     "execution_count": 51,
     "metadata": {},
     "output_type": "execute_result"
    }
   ],
   "source": [
    "r1"
   ]
  },
  {
   "cell_type": "code",
   "execution_count": 55,
   "metadata": {},
   "outputs": [],
   "source": [
    "a = []"
   ]
  },
  {
   "cell_type": "code",
   "execution_count": 61,
   "metadata": {},
   "outputs": [
    {
     "data": {
      "text/plain": [
       "('136.125', '257.208')"
      ]
     },
     "execution_count": 61,
     "metadata": {},
     "output_type": "execute_result"
    }
   ],
   "source": [
    "re.findall('(.*?) \\[.*?\\+ (.*)', r1)[0]"
   ]
  },
  {
   "cell_type": "code",
   "execution_count": 17,
   "metadata": {},
   "outputs": [
    {
     "data": {
      "text/html": [
       "<div>\n",
       "<style scoped>\n",
       "    .dataframe tbody tr th:only-of-type {\n",
       "        vertical-align: middle;\n",
       "    }\n",
       "\n",
       "    .dataframe tbody tr th {\n",
       "        vertical-align: top;\n",
       "    }\n",
       "\n",
       "    .dataframe thead th {\n",
       "        text-align: right;\n",
       "    }\n",
       "</style>\n",
       "<table border=\"1\" class=\"dataframe\">\n",
       "  <thead>\n",
       "    <tr style=\"text-align: right;\">\n",
       "      <th></th>\n",
       "      <th>mz</th>\n",
       "      <th>Filter_1.mzXML</th>\n",
       "      <th>adduct</th>\n",
       "    </tr>\n",
       "  </thead>\n",
       "  <tbody>\n",
       "    <tr>\n",
       "      <th>1828</th>\n",
       "      <td>180.065347</td>\n",
       "      <td>1.025866e+10</td>\n",
       "      <td>[M+H]+ 179.057</td>\n",
       "    </tr>\n",
       "    <tr>\n",
       "      <th>4342</th>\n",
       "      <td>286.200974</td>\n",
       "      <td>9.624930e+09</td>\n",
       "      <td>[M+2H]2+ 570.387</td>\n",
       "    </tr>\n",
       "    <tr>\n",
       "      <th>3864</th>\n",
       "      <td>266.117127</td>\n",
       "      <td>1.970739e+09</td>\n",
       "      <td>[M+H]+ 265.107</td>\n",
       "    </tr>\n",
       "    <tr>\n",
       "      <th>2792</th>\n",
       "      <td>220.063774</td>\n",
       "      <td>1.352866e+09</td>\n",
       "      <td>[M+H]+ 219.056</td>\n",
       "    </tr>\n",
       "    <tr>\n",
       "      <th>3674</th>\n",
       "      <td>257.149394</td>\n",
       "      <td>1.196685e+09</td>\n",
       "      <td>[M+H]+ 256.145</td>\n",
       "    </tr>\n",
       "    <tr>\n",
       "      <th>4240</th>\n",
       "      <td>282.119235</td>\n",
       "      <td>1.183156e+09</td>\n",
       "      <td>[M+H]+ 281.113</td>\n",
       "    </tr>\n",
       "    <tr>\n",
       "      <th>291</th>\n",
       "      <td>105.033733</td>\n",
       "      <td>1.150472e+09</td>\n",
       "      <td>[M+H-H20]+ 122.036</td>\n",
       "    </tr>\n",
       "    <tr>\n",
       "      <th>1009</th>\n",
       "      <td>146.060063</td>\n",
       "      <td>1.111696e+09</td>\n",
       "      <td>[M+Na+K]2+ 230.164</td>\n",
       "    </tr>\n",
       "    <tr>\n",
       "      <th>3049</th>\n",
       "      <td>230.157868</td>\n",
       "      <td>7.991119e+08</td>\n",
       "      <td>[M+H-C2H4]+ 257.171</td>\n",
       "    </tr>\n",
       "    <tr>\n",
       "      <th>3317</th>\n",
       "      <td>241.154540</td>\n",
       "      <td>7.562159e+08</td>\n",
       "      <td>[M+H-NH3]+ 257.171</td>\n",
       "    </tr>\n",
       "    <tr>\n",
       "      <th>2815</th>\n",
       "      <td>221.050000</td>\n",
       "      <td>7.061166e+08</td>\n",
       "      <td>[3M+H+K]2+ 134.038</td>\n",
       "    </tr>\n",
       "    <tr>\n",
       "      <th>4587</th>\n",
       "      <td>298.114344</td>\n",
       "      <td>6.855339e+08</td>\n",
       "      <td>[M+2H]2+ 594.214</td>\n",
       "    </tr>\n",
       "    <tr>\n",
       "      <th>1316</th>\n",
       "      <td>160.096711</td>\n",
       "      <td>6.078027e+08</td>\n",
       "      <td>[M+H]+ 159.087</td>\n",
       "    </tr>\n",
       "    <tr>\n",
       "      <th>7853</th>\n",
       "      <td>529.228906</td>\n",
       "      <td>5.165618e+08</td>\n",
       "      <td>[M+H]+ 528.218</td>\n",
       "    </tr>\n",
       "    <tr>\n",
       "      <th>3983</th>\n",
       "      <td>271.092163</td>\n",
       "      <td>4.978565e+08</td>\n",
       "      <td>[2M+K]+ 116.062</td>\n",
       "    </tr>\n",
       "    <tr>\n",
       "      <th>2727</th>\n",
       "      <td>217.118178</td>\n",
       "      <td>4.535256e+08</td>\n",
       "      <td>[M+H]+ 216.111</td>\n",
       "    </tr>\n",
       "    <tr>\n",
       "      <th>2521</th>\n",
       "      <td>208.063709</td>\n",
       "      <td>4.120440e+08</td>\n",
       "      <td>[M+Na+NaCOOH]+ 117.083</td>\n",
       "    </tr>\n",
       "    <tr>\n",
       "      <th>501</th>\n",
       "      <td>118.065271</td>\n",
       "      <td>4.033468e+08</td>\n",
       "      <td>[M+Na]+ 95.0732</td>\n",
       "    </tr>\n",
       "    <tr>\n",
       "      <th>2485</th>\n",
       "      <td>206.081125</td>\n",
       "      <td>4.014204e+08</td>\n",
       "      <td>[M+H-C2H4]+ 233.107</td>\n",
       "    </tr>\n",
       "    <tr>\n",
       "      <th>525</th>\n",
       "      <td>120.044578</td>\n",
       "      <td>3.966100e+08</td>\n",
       "      <td>[M+H]+ 119.037</td>\n",
       "    </tr>\n",
       "    <tr>\n",
       "      <th>3314</th>\n",
       "      <td>241.092922</td>\n",
       "      <td>3.733996e+08</td>\n",
       "      <td>[M+H]+ 240.084</td>\n",
       "    </tr>\n",
       "    <tr>\n",
       "      <th>7185</th>\n",
       "      <td>458.201681</td>\n",
       "      <td>3.538628e+08</td>\n",
       "      <td>[M+H+NH3]+ 440.166</td>\n",
       "    </tr>\n",
       "    <tr>\n",
       "      <th>3541</th>\n",
       "      <td>251.127554</td>\n",
       "      <td>3.254955e+08</td>\n",
       "      <td>[M+H]+ 250.123</td>\n",
       "    </tr>\n",
       "    <tr>\n",
       "      <th>703</th>\n",
       "      <td>130.049919</td>\n",
       "      <td>3.228092e+08</td>\n",
       "      <td>[M+K]+ 91.0945</td>\n",
       "    </tr>\n",
       "    <tr>\n",
       "      <th>3961</th>\n",
       "      <td>270.169754</td>\n",
       "      <td>3.127785e+08</td>\n",
       "      <td>[M+H-CH4]+ 285.199</td>\n",
       "    </tr>\n",
       "    <tr>\n",
       "      <th>2237</th>\n",
       "      <td>197.064584</td>\n",
       "      <td>2.697865e+08</td>\n",
       "      <td>[M+H-C6H8O6]+ 372.103</td>\n",
       "    </tr>\n",
       "    <tr>\n",
       "      <th>6003</th>\n",
       "      <td>373.112721</td>\n",
       "      <td>2.581907e+08</td>\n",
       "      <td>[M+H]+ 372.103</td>\n",
       "    </tr>\n",
       "    <tr>\n",
       "      <th>4590</th>\n",
       "      <td>298.114417</td>\n",
       "      <td>2.544174e+08</td>\n",
       "      <td>[M+H]+ 297.107</td>\n",
       "    </tr>\n",
       "    <tr>\n",
       "      <th>96</th>\n",
       "      <td>91.052805</td>\n",
       "      <td>2.535271e+08</td>\n",
       "      <td>[M+3H]3+ 270.131</td>\n",
       "    </tr>\n",
       "    <tr>\n",
       "      <th>4733</th>\n",
       "      <td>305.061710</td>\n",
       "      <td>2.445685e+08</td>\n",
       "      <td>[M+H-C6H10O4]+ 450.123</td>\n",
       "    </tr>\n",
       "    <tr>\n",
       "      <th>...</th>\n",
       "      <td>...</td>\n",
       "      <td>...</td>\n",
       "      <td>...</td>\n",
       "    </tr>\n",
       "    <tr>\n",
       "      <th>5125</th>\n",
       "      <td>323.965002</td>\n",
       "      <td>2.066112e+05</td>\n",
       "      <td>[M+K]+ 284.997</td>\n",
       "    </tr>\n",
       "    <tr>\n",
       "      <th>8570</th>\n",
       "      <td>740.097232</td>\n",
       "      <td>1.928783e+05</td>\n",
       "      <td>[M+K]+ 701.139</td>\n",
       "    </tr>\n",
       "    <tr>\n",
       "      <th>6150</th>\n",
       "      <td>382.978616</td>\n",
       "      <td>1.787712e+05</td>\n",
       "      <td>[M+Na]+ 359.992</td>\n",
       "    </tr>\n",
       "    <tr>\n",
       "      <th>1021</th>\n",
       "      <td>146.528211</td>\n",
       "      <td>1.627363e+05</td>\n",
       "      <td>[M+2H-C6H10O5]2+ 453.084</td>\n",
       "    </tr>\n",
       "    <tr>\n",
       "      <th>1637</th>\n",
       "      <td>172.977222</td>\n",
       "      <td>1.617988e+05</td>\n",
       "      <td>[M+Na]+ 149.985 [M+H-CH2]+ 185.977 [M+H-H20]+ ...</td>\n",
       "    </tr>\n",
       "    <tr>\n",
       "      <th>3089</th>\n",
       "      <td>232.012762</td>\n",
       "      <td>1.592103e+05</td>\n",
       "      <td>[M+H-CH4]+ 247.046</td>\n",
       "    </tr>\n",
       "    <tr>\n",
       "      <th>5308</th>\n",
       "      <td>332.560520</td>\n",
       "      <td>1.535240e+05</td>\n",
       "      <td>[3M+3K-H]2+ 183.078</td>\n",
       "    </tr>\n",
       "    <tr>\n",
       "      <th>1929</th>\n",
       "      <td>183.996180</td>\n",
       "      <td>1.470125e+05</td>\n",
       "      <td>[M+H]+ 182.99 [M+H]+ 182.99</td>\n",
       "    </tr>\n",
       "    <tr>\n",
       "      <th>766</th>\n",
       "      <td>133.565431</td>\n",
       "      <td>1.395041e+05</td>\n",
       "      <td>[M+Na]+ 110.578</td>\n",
       "    </tr>\n",
       "    <tr>\n",
       "      <th>3204</th>\n",
       "      <td>236.149184</td>\n",
       "      <td>1.282483e+05</td>\n",
       "      <td>[M+H]+ 235.139</td>\n",
       "    </tr>\n",
       "    <tr>\n",
       "      <th>5509</th>\n",
       "      <td>343.973898</td>\n",
       "      <td>1.091374e+05</td>\n",
       "      <td>[3M+Na+2K-H]2+ 196.008</td>\n",
       "    </tr>\n",
       "    <tr>\n",
       "      <th>7303</th>\n",
       "      <td>469.064564</td>\n",
       "      <td>7.703621e+04</td>\n",
       "      <td>[M+K+NaCOOH]+ 362.124 [M+Na+NaCOOH]+ 378.098 [...</td>\n",
       "    </tr>\n",
       "    <tr>\n",
       "      <th>27</th>\n",
       "      <td>83.060926</td>\n",
       "      <td>NaN</td>\n",
       "      <td>[M+K]+ 44.0934 [M+Na]+ 60.0673 [M+H]+ 82.0504</td>\n",
       "    </tr>\n",
       "    <tr>\n",
       "      <th>1151</th>\n",
       "      <td>153.498921</td>\n",
       "      <td>NaN</td>\n",
       "      <td>[M+K]+ 114.529</td>\n",
       "    </tr>\n",
       "    <tr>\n",
       "      <th>1159</th>\n",
       "      <td>153.997803</td>\n",
       "      <td>NaN</td>\n",
       "      <td>[M+H-CO2]+ 196.984</td>\n",
       "    </tr>\n",
       "    <tr>\n",
       "      <th>2741</th>\n",
       "      <td>217.995567</td>\n",
       "      <td>NaN</td>\n",
       "      <td>[M+2K]2+ 358.055</td>\n",
       "    </tr>\n",
       "    <tr>\n",
       "      <th>3007</th>\n",
       "      <td>228.557569</td>\n",
       "      <td>NaN</td>\n",
       "      <td>[M+2K]2+ 379.185</td>\n",
       "    </tr>\n",
       "    <tr>\n",
       "      <th>3863</th>\n",
       "      <td>266.006103</td>\n",
       "      <td>NaN</td>\n",
       "      <td>[2M+H]+ 132.507</td>\n",
       "    </tr>\n",
       "    <tr>\n",
       "      <th>4252</th>\n",
       "      <td>282.974925</td>\n",
       "      <td>NaN</td>\n",
       "      <td>[M+Na]+ 259.99 [M+Na]+ 259.99</td>\n",
       "    </tr>\n",
       "    <tr>\n",
       "      <th>4523</th>\n",
       "      <td>294.997152</td>\n",
       "      <td>NaN</td>\n",
       "      <td>[2M+H]+ 147.002</td>\n",
       "    </tr>\n",
       "    <tr>\n",
       "      <th>4757</th>\n",
       "      <td>305.967126</td>\n",
       "      <td>NaN</td>\n",
       "      <td>[2M+2K-H]+ 114.529</td>\n",
       "    </tr>\n",
       "    <tr>\n",
       "      <th>4965</th>\n",
       "      <td>316.051682</td>\n",
       "      <td>NaN</td>\n",
       "      <td>[M+K]+ 277.089</td>\n",
       "    </tr>\n",
       "    <tr>\n",
       "      <th>5765</th>\n",
       "      <td>359.000685</td>\n",
       "      <td>NaN</td>\n",
       "      <td>[M+H-H20]+ 376.005</td>\n",
       "    </tr>\n",
       "    <tr>\n",
       "      <th>5777</th>\n",
       "      <td>359.818331</td>\n",
       "      <td>NaN</td>\n",
       "      <td>[M+K]+ 320.855 [M+Na]+ 336.829 [M+H]+ 358.811</td>\n",
       "    </tr>\n",
       "    <tr>\n",
       "      <th>6497</th>\n",
       "      <td>405.823895</td>\n",
       "      <td>NaN</td>\n",
       "      <td>[M+K+HCOOH]+ 320.855 [M+Na+HCOOH]+ 336.829 [M+...</td>\n",
       "    </tr>\n",
       "    <tr>\n",
       "      <th>6770</th>\n",
       "      <td>425.135358</td>\n",
       "      <td>NaN</td>\n",
       "      <td>[M+K]+ 386.172</td>\n",
       "    </tr>\n",
       "    <tr>\n",
       "      <th>7189</th>\n",
       "      <td>458.107774</td>\n",
       "      <td>NaN</td>\n",
       "      <td>[M+H]+ 457.105</td>\n",
       "    </tr>\n",
       "    <tr>\n",
       "      <th>7546</th>\n",
       "      <td>493.023512</td>\n",
       "      <td>NaN</td>\n",
       "      <td>[M+K]+ 454.066 [M+Na]+ 470.035</td>\n",
       "    </tr>\n",
       "    <tr>\n",
       "      <th>8432</th>\n",
       "      <td>645.383942</td>\n",
       "      <td>NaN</td>\n",
       "      <td>[M+H+NH3]+ 627.357</td>\n",
       "    </tr>\n",
       "    <tr>\n",
       "      <th>8550</th>\n",
       "      <td>724.124944</td>\n",
       "      <td>NaN</td>\n",
       "      <td>[M+Na]+ 701.139</td>\n",
       "    </tr>\n",
       "  </tbody>\n",
       "</table>\n",
       "<p>1390 rows × 3 columns</p>\n",
       "</div>"
      ],
      "text/plain": [
       "              mz  Filter_1.mzXML  \\\n",
       "1828  180.065347    1.025866e+10   \n",
       "4342  286.200974    9.624930e+09   \n",
       "3864  266.117127    1.970739e+09   \n",
       "2792  220.063774    1.352866e+09   \n",
       "3674  257.149394    1.196685e+09   \n",
       "4240  282.119235    1.183156e+09   \n",
       "291   105.033733    1.150472e+09   \n",
       "1009  146.060063    1.111696e+09   \n",
       "3049  230.157868    7.991119e+08   \n",
       "3317  241.154540    7.562159e+08   \n",
       "2815  221.050000    7.061166e+08   \n",
       "4587  298.114344    6.855339e+08   \n",
       "1316  160.096711    6.078027e+08   \n",
       "7853  529.228906    5.165618e+08   \n",
       "3983  271.092163    4.978565e+08   \n",
       "2727  217.118178    4.535256e+08   \n",
       "2521  208.063709    4.120440e+08   \n",
       "501   118.065271    4.033468e+08   \n",
       "2485  206.081125    4.014204e+08   \n",
       "525   120.044578    3.966100e+08   \n",
       "3314  241.092922    3.733996e+08   \n",
       "7185  458.201681    3.538628e+08   \n",
       "3541  251.127554    3.254955e+08   \n",
       "703   130.049919    3.228092e+08   \n",
       "3961  270.169754    3.127785e+08   \n",
       "2237  197.064584    2.697865e+08   \n",
       "6003  373.112721    2.581907e+08   \n",
       "4590  298.114417    2.544174e+08   \n",
       "96     91.052805    2.535271e+08   \n",
       "4733  305.061710    2.445685e+08   \n",
       "...          ...             ...   \n",
       "5125  323.965002    2.066112e+05   \n",
       "8570  740.097232    1.928783e+05   \n",
       "6150  382.978616    1.787712e+05   \n",
       "1021  146.528211    1.627363e+05   \n",
       "1637  172.977222    1.617988e+05   \n",
       "3089  232.012762    1.592103e+05   \n",
       "5308  332.560520    1.535240e+05   \n",
       "1929  183.996180    1.470125e+05   \n",
       "766   133.565431    1.395041e+05   \n",
       "3204  236.149184    1.282483e+05   \n",
       "5509  343.973898    1.091374e+05   \n",
       "7303  469.064564    7.703621e+04   \n",
       "27     83.060926             NaN   \n",
       "1151  153.498921             NaN   \n",
       "1159  153.997803             NaN   \n",
       "2741  217.995567             NaN   \n",
       "3007  228.557569             NaN   \n",
       "3863  266.006103             NaN   \n",
       "4252  282.974925             NaN   \n",
       "4523  294.997152             NaN   \n",
       "4757  305.967126             NaN   \n",
       "4965  316.051682             NaN   \n",
       "5765  359.000685             NaN   \n",
       "5777  359.818331             NaN   \n",
       "6497  405.823895             NaN   \n",
       "6770  425.135358             NaN   \n",
       "7189  458.107774             NaN   \n",
       "7546  493.023512             NaN   \n",
       "8432  645.383942             NaN   \n",
       "8550  724.124944             NaN   \n",
       "\n",
       "                                                 adduct  \n",
       "1828                                     [M+H]+ 179.057  \n",
       "4342                                   [M+2H]2+ 570.387  \n",
       "3864                                     [M+H]+ 265.107  \n",
       "2792                                     [M+H]+ 219.056  \n",
       "3674                                     [M+H]+ 256.145  \n",
       "4240                                     [M+H]+ 281.113  \n",
       "291                                  [M+H-H20]+ 122.036  \n",
       "1009                                 [M+Na+K]2+ 230.164  \n",
       "3049                                [M+H-C2H4]+ 257.171  \n",
       "3317                                 [M+H-NH3]+ 257.171  \n",
       "2815                                 [3M+H+K]2+ 134.038  \n",
       "4587                                   [M+2H]2+ 594.214  \n",
       "1316                                     [M+H]+ 159.087  \n",
       "7853                                     [M+H]+ 528.218  \n",
       "3983                                    [2M+K]+ 116.062  \n",
       "2727                                     [M+H]+ 216.111  \n",
       "2521                             [M+Na+NaCOOH]+ 117.083  \n",
       "501                                     [M+Na]+ 95.0732  \n",
       "2485                                [M+H-C2H4]+ 233.107  \n",
       "525                                      [M+H]+ 119.037  \n",
       "3314                                     [M+H]+ 240.084  \n",
       "7185                                 [M+H+NH3]+ 440.166  \n",
       "3541                                     [M+H]+ 250.123  \n",
       "703                                      [M+K]+ 91.0945  \n",
       "3961                                 [M+H-CH4]+ 285.199  \n",
       "2237                              [M+H-C6H8O6]+ 372.103  \n",
       "6003                                     [M+H]+ 372.103  \n",
       "4590                                     [M+H]+ 297.107  \n",
       "96                                     [M+3H]3+ 270.131  \n",
       "4733                             [M+H-C6H10O4]+ 450.123  \n",
       "...                                                 ...  \n",
       "5125                                     [M+K]+ 284.997  \n",
       "8570                                     [M+K]+ 701.139  \n",
       "6150                                    [M+Na]+ 359.992  \n",
       "1021                           [M+2H-C6H10O5]2+ 453.084  \n",
       "1637  [M+Na]+ 149.985 [M+H-CH2]+ 185.977 [M+H-H20]+ ...  \n",
       "3089                                 [M+H-CH4]+ 247.046  \n",
       "5308                                [3M+3K-H]2+ 183.078  \n",
       "1929                        [M+H]+ 182.99 [M+H]+ 182.99  \n",
       "766                                     [M+Na]+ 110.578  \n",
       "3204                                     [M+H]+ 235.139  \n",
       "5509                             [3M+Na+2K-H]2+ 196.008  \n",
       "7303  [M+K+NaCOOH]+ 362.124 [M+Na+NaCOOH]+ 378.098 [...  \n",
       "27        [M+K]+ 44.0934 [M+Na]+ 60.0673 [M+H]+ 82.0504  \n",
       "1151                                     [M+K]+ 114.529  \n",
       "1159                                 [M+H-CO2]+ 196.984  \n",
       "2741                                   [M+2K]2+ 358.055  \n",
       "3007                                   [M+2K]2+ 379.185  \n",
       "3863                                    [2M+H]+ 132.507  \n",
       "4252                      [M+Na]+ 259.99 [M+Na]+ 259.99  \n",
       "4523                                    [2M+H]+ 147.002  \n",
       "4757                                 [2M+2K-H]+ 114.529  \n",
       "4965                                     [M+K]+ 277.089  \n",
       "5765                                 [M+H-H20]+ 376.005  \n",
       "5777      [M+K]+ 320.855 [M+Na]+ 336.829 [M+H]+ 358.811  \n",
       "6497  [M+K+HCOOH]+ 320.855 [M+Na+HCOOH]+ 336.829 [M+...  \n",
       "6770                                     [M+K]+ 386.172  \n",
       "7189                                     [M+H]+ 457.105  \n",
       "7546                     [M+K]+ 454.066 [M+Na]+ 470.035  \n",
       "8432                                 [M+H+NH3]+ 627.357  \n",
       "8550                                    [M+Na]+ 701.139  \n",
       "\n",
       "[1390 rows x 3 columns]"
      ]
     },
     "execution_count": 17,
     "metadata": {},
     "output_type": "execute_result"
    }
   ],
   "source": [
    "re = result[['mz', 'Filter_1.mzXML', 'adduct']]\n",
    "re.sort_values('Filter_1.mzXML', ascending=False)"
   ]
  },
  {
   "cell_type": "code",
   "execution_count": 71,
   "metadata": {},
   "outputs": [
    {
     "data": {
      "text/plain": [
       "0                                   [M+Na]+ 57.0325\n",
       "6          [M+H-C4H8]+ 136.125 [M+3H-NH3]3+ 257.208\n",
       "12                                  [M+Na]+ 60.0692\n",
       "27    [M+K]+ 44.0934 [M+Na]+ 60.0673 [M+H]+ 82.0504\n",
       "28                                   [M+H]+ 82.0535\n",
       "Name: adduct, dtype: object"
      ]
     },
     "execution_count": 71,
     "metadata": {},
     "output_type": "execute_result"
    }
   ],
   "source": [
    "add = result['adduct']\n",
    "add[:5]"
   ]
  },
  {
   "cell_type": "code",
   "execution_count": 69,
   "metadata": {},
   "outputs": [
    {
     "data": {
      "text/plain": [
       "['[1][2][3]']"
      ]
     },
     "execution_count": 69,
     "metadata": {},
     "output_type": "execute_result"
    }
   ],
   "source": [
    "re.findall('\\[.*\\]', '[1][2][3]')"
   ]
  },
  {
   "cell_type": "code",
   "execution_count": 82,
   "metadata": {},
   "outputs": [
    {
     "data": {
      "text/plain": [
       "['44.0934 [M+Na]+ 60.0673 [M+H]+ 82.0504']"
      ]
     },
     "execution_count": 82,
     "metadata": {},
     "output_type": "execute_result"
    }
   ],
   "source": [
    "re.findall('\\+ (.*)?', tar)"
   ]
  },
  {
   "cell_type": "code",
   "execution_count": 77,
   "metadata": {},
   "outputs": [
    {
     "data": {
      "text/plain": [
       "'82.0504'"
      ]
     },
     "execution_count": 77,
     "metadata": {},
     "output_type": "execute_result"
    }
   ],
   "source": [
    "tar"
   ]
  },
  {
   "cell_type": "code",
   "execution_count": 98,
   "metadata": {},
   "outputs": [
    {
     "name": "stdout",
     "output_type": "stream",
     "text": [
      "136.125 [M+3H-NH3]3+ 257.208\n",
      "['136.125']\n",
      "257.208\n",
      "[]\n"
     ]
    },
    {
     "data": {
      "text/plain": [
       "['136.125', '257.208']"
      ]
     },
     "execution_count": 98,
     "metadata": {},
     "output_type": "execute_result"
    }
   ],
   "source": [
    "tar = '[M+H-C4H8]+ 136.125 [M+3H-NH3]3+ 257.208'\n",
    "\n",
    "result = []\n",
    "while '[' in tar:\n",
    "    tar = re.findall('\\+ (.*)?', tar)[0]\n",
    "    mz = re.findall('(.*?) .*', tar)\n",
    "    print(tar)\n",
    "    print(mz)\n",
    "    try:\n",
    "        result.append(mz[0])\n",
    "    except IndexError:\n",
    "        pass\n",
    "result.append(tar)\n",
    "result"
   ]
  },
  {
   "cell_type": "code",
   "execution_count": 122,
   "metadata": {},
   "outputs": [],
   "source": [
    "def get(tar):\n",
    "    result = []\n",
    "    while '[' in tar:\n",
    "        tar = re.findall('\\+ (.*)?', tar)[0]\n",
    "        mz = re.findall('(.*?) .*', tar)\n",
    "        try:\n",
    "            result.append(mz[0])\n",
    "        except IndexError:\n",
    "            pass\n",
    "    result.append(tar)\n",
    "    return result"
   ]
  },
  {
   "cell_type": "code",
   "execution_count": 123,
   "metadata": {},
   "outputs": [],
   "source": [
    "def find(x):\n",
    "    x = x['adduct']\n",
    "    return get(x)"
   ]
  },
  {
   "cell_type": "code",
   "execution_count": 121,
   "metadata": {},
   "outputs": [
    {
     "data": {
      "text/plain": [
       "['136.125', '257.208']"
      ]
     },
     "execution_count": 121,
     "metadata": {},
     "output_type": "execute_result"
    }
   ],
   "source": [
    "get('[M+H-C4H8]+ 136.125 [M+3H-NH3]3+ 257.208')"
   ]
  },
  {
   "cell_type": "code",
   "execution_count": 118,
   "metadata": {},
   "outputs": [
    {
     "data": {
      "text/plain": [
       "0                                   [M+Na]+ 57.0325\n",
       "6          [M+H-C4H8]+ 136.125 [M+3H-NH3]3+ 257.208\n",
       "12                                  [M+Na]+ 60.0692\n",
       "27    [M+K]+ 44.0934 [M+Na]+ 60.0673 [M+H]+ 82.0504\n",
       "28                                   [M+H]+ 82.0535\n",
       "Name: adduct, dtype: object"
      ]
     },
     "execution_count": 118,
     "metadata": {},
     "output_type": "execute_result"
    }
   ],
   "source": [
    "result.dropna(subset=['adduct'])['adduct'][:5]"
   ]
  },
  {
   "cell_type": "code",
   "execution_count": 138,
   "metadata": {},
   "outputs": [
    {
     "data": {
      "text/plain": [
       "['1', '2', '3']"
      ]
     },
     "execution_count": 138,
     "metadata": {},
     "output_type": "execute_result"
    }
   ],
   "source": [
    "mzs = []\n",
    "x = '123'\n",
    "for x0 in x:\n",
    "    mzs.append(x0)\n",
    "    \n",
    "mzs"
   ]
  },
  {
   "cell_type": "code",
   "execution_count": 139,
   "metadata": {},
   "outputs": [
    {
     "data": {
      "text/plain": [
       "['1', '2', '3']"
      ]
     },
     "execution_count": 139,
     "metadata": {},
     "output_type": "execute_result"
    }
   ],
   "source": [
    "mzs = []\n",
    "x = '123'\n",
    "[mzs.append(x0) for x0 in x]    \n",
    "mzs"
   ]
  },
  {
   "cell_type": "code",
   "execution_count": 144,
   "metadata": {},
   "outputs": [
    {
     "data": {
      "text/plain": [
       "<function __main__.<lambda>(x)>"
      ]
     },
     "execution_count": 144,
     "metadata": {},
     "output_type": "execute_result"
    }
   ],
   "source": [
    "l = lambda x: [mzs.append(x0) for x0 in x]\n",
    "l"
   ]
  },
  {
   "cell_type": "code",
   "execution_count": 146,
   "metadata": {},
   "outputs": [
    {
     "data": {
      "text/plain": [
       "['1', '2', '3']"
      ]
     },
     "execution_count": 146,
     "metadata": {},
     "output_type": "execute_result"
    }
   ],
   "source": [
    "mzs = []\n",
    "l(x)\n",
    "mzs"
   ]
  },
  {
   "cell_type": "code",
   "execution_count": 149,
   "metadata": {},
   "outputs": [],
   "source": [
    "mzs = []\n",
    "result.dropna(subset=['adduct']).apply(find, axis=1).apply(lambda x: [mzs.append(x0) for x0 in x])\n",
    "mzs;"
   ]
  },
  {
   "cell_type": "code",
   "execution_count": 152,
   "metadata": {},
   "outputs": [
    {
     "data": {
      "text/plain": [
       "75.994     10\n",
       "518.329     7\n",
       "522.058     7\n",
       "344.101     7\n",
       "440.166     6\n",
       "510.283     6\n",
       "104.067     6\n",
       "412.21      6\n",
       "346.161     6\n",
       "192.024     6\n",
       "148.053     5\n",
       "293.169     5\n",
       "314.079     5\n",
       "219.056     5\n",
       "114.529     5\n",
       "94.0871     5\n",
       "257.171     5\n",
       "268.186     5\n",
       "103.064     5\n",
       "414.204     4\n",
       "436.135     4\n",
       "78.9951     4\n",
       "404.231     4\n",
       "188.062     4\n",
       "528.218     4\n",
       "363.175     4\n",
       "491.058     4\n",
       "390.103     4\n",
       "198.993     4\n",
       "260.078     4\n",
       "           ..\n",
       "128.053     2\n",
       "118.968     2\n",
       "568.046     2\n",
       "95.0732     2\n",
       "365.101     2\n",
       "468.199     2\n",
       "240.101     2\n",
       "304.098     2\n",
       "313.192     2\n",
       "442.211     2\n",
       "403.153     2\n",
       "283.005     2\n",
       "261.205     2\n",
       "429.048     2\n",
       "442.184     2\n",
       "333.152     2\n",
       "239.028     2\n",
       "206.624     2\n",
       "336.038     2\n",
       "300.168     2\n",
       "127.08      2\n",
       "484.251     2\n",
       "608.378     2\n",
       "243.185     2\n",
       "136.035     2\n",
       "566.221     2\n",
       "203.081     2\n",
       "335.151     2\n",
       "628.141     2\n",
       "372.267     2\n",
       "Length: 691, dtype: int64"
      ]
     },
     "execution_count": 152,
     "metadata": {},
     "output_type": "execute_result"
    }
   ],
   "source": [
    "pd.Series(mzs).value_counts()"
   ]
  },
  {
   "cell_type": "code",
   "execution_count": null,
   "metadata": {},
   "outputs": [],
   "source": []
  }
 ],
 "metadata": {
  "kernelspec": {
   "display_name": "Python 3",
   "language": "python",
   "name": "python3"
  },
  "language_info": {
   "codemirror_mode": {
    "name": "ipython",
    "version": 3
   },
   "file_extension": ".py",
   "mimetype": "text/x-python",
   "name": "python",
   "nbconvert_exporter": "python",
   "pygments_lexer": "ipython3",
   "version": "3.7.2"
  }
 },
 "nbformat": 4,
 "nbformat_minor": 2
}
